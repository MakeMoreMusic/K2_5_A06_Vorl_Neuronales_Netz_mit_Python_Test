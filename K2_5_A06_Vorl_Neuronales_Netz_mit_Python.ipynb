{
 "cells": [
  {
   "cell_type": "code",
   "execution_count": 6,
   "id": "29bfe0cc-c0c6-44a1-a8ed-103705929115",
   "metadata": {},
   "outputs": [],
   "source": [
    "#Bibliotheken für das erste Modell werden importiert\n",
    "import torch\n",
    "import torch.nn as nn\n",
    "#Für eine übersichtliche Ausgabe des Modells\n",
    "from torchsummary import summary"
   ]
  },
  {
   "cell_type": "code",
   "execution_count": 7,
   "id": "bd2d4355-356c-407e-ab76-d30311be5eff",
   "metadata": {},
   "outputs": [],
   "source": [
    "#Bibliotheken für das zweite Modelll werden importiert\n",
    "import keras\n",
    "from keras import layers"
   ]
  },
  {
   "cell_type": "code",
   "execution_count": 8,
   "id": "63b0291c-e33c-43cd-ad2d-e11da6756e38",
   "metadata": {},
   "outputs": [
    {
     "name": "stdout",
     "output_type": "stream",
     "text": [
      "----------------------------------------------------------------\n",
      "        Layer (type)               Output Shape         Param #\n",
      "================================================================\n",
      "            Linear-1                    [-1, 3]              15\n",
      "          Identity-2                    [-1, 3]               0\n",
      "            Linear-3                    [-1, 4]              16\n",
      "              ReLU-4                    [-1, 4]               0\n",
      "            Linear-5                    [-1, 2]              10\n",
      "              ReLU-6                    [-1, 2]               0\n",
      "================================================================\n",
      "Total params: 41\n",
      "Trainable params: 41\n",
      "Non-trainable params: 0\n",
      "----------------------------------------------------------------\n",
      "Input size (MB): 0.00\n",
      "Forward/backward pass size (MB): 0.00\n",
      "Params size (MB): 0.00\n",
      "Estimated Total Size (MB): 0.00\n",
      "----------------------------------------------------------------\n"
     ]
    }
   ],
   "source": [
    "#Definition des Modells\n",
    "model1 = nn.Sequential(\n",
    "    nn.Linear(4, 3),\n",
    "    nn.Identity(),\n",
    "    nn.Linear(3, 4),\n",
    "    nn.ReLU(),\n",
    "    nn.Linear(4, 2),\n",
    "    nn.ReLU()\n",
    ")\n",
    "#Ausgabe einer Übersicht des Modells\n",
    "summary(model1, (4,))"
   ]
  },
  {
   "cell_type": "code",
   "execution_count": 9,
   "id": "1a14fefa-0dec-4489-b0bd-565e6aeb1e67",
   "metadata": {},
   "outputs": [
    {
     "name": "stdout",
     "output_type": "stream",
     "text": [
      "Model: \"sequential_1\"\n",
      "_________________________________________________________________\n",
      " Layer (type)                Output Shape              Param #   \n",
      "=================================================================\n",
      " hiddenlayer1 (Dense)        (None, 3)                 15        \n",
      "                                                                 \n",
      " hiddenlayer2 (Dense)        (None, 4)                 16        \n",
      "                                                                 \n",
      " outputlayer (Dense)         (None, 2)                 10        \n",
      "                                                                 \n",
      "=================================================================\n",
      "Total params: 41 (164.00 Byte)\n",
      "Trainable params: 41 (164.00 Byte)\n",
      "Non-trainable params: 0 (0.00 Byte)\n",
      "_________________________________________________________________\n",
      "None\n"
     ]
    }
   ],
   "source": [
    "#Definition des Modells\n",
    "model2 = keras.Sequential(\n",
    "    [\n",
    "        layers.Dense(3, activation=\"relu\", name=\"hiddenlayer1\", input_shape=(4,)),\n",
    "        layers.Dense(4, activation=\"relu\", name=\"hiddenlayer2\"),\n",
    "        layers.Dense(2, activation=\"relu\", name=\"outputlayer\"),\n",
    "    ]\n",
    ")\n",
    "#Ausgabe einer Übersicht des Modells\n",
    "print(model2.summary())"
   ]
  },
  {
   "cell_type": "code",
   "execution_count": null,
   "id": "57eb7c7c-d0a8-434b-bfdc-31f8f904b72c",
   "metadata": {},
   "outputs": [],
   "source": []
  }
 ],
 "metadata": {
  "kernelspec": {
   "display_name": "Python 3 (ipykernel)",
   "language": "python",
   "name": "python3"
  },
  "language_info": {
   "codemirror_mode": {
    "name": "ipython",
    "version": 3
   },
   "file_extension": ".py",
   "mimetype": "text/x-python",
   "name": "python",
   "nbconvert_exporter": "python",
   "pygments_lexer": "ipython3",
   "version": "3.9.18"
  }
 },
 "nbformat": 4,
 "nbformat_minor": 5
}
